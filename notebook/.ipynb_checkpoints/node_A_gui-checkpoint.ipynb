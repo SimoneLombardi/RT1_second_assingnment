{
 "cells": [
  {
   "cell_type": "code",
   "execution_count": 1,
   "id": "2d1973b4",
   "metadata": {
    "ExecuteTime": {
     "end_time": "2024-05-07T12:28:51.858868Z",
     "start_time": "2024-05-07T12:28:50.817156Z"
    }
   },
   "outputs": [
    {
     "data": {
      "text/plain": [
       "True"
      ]
     },
     "execution_count": 1,
     "metadata": {},
     "output_type": "execute_result"
    }
   ],
   "source": [
    "import ipywidgets as widgets\n",
    "import matplotlib as mpl\n",
    "import matplotlib.pyplot as ptl\n",
    "import numpy as np\n",
    "import math\n",
    "\n",
    "from ipywidgets      import Button, Layout, ButtonStyle, VBox, HBox\n",
    "from IPython.display import display\n",
    "\n",
    "import rospy\n",
    "import actionlib\n",
    "import actionlib.msg\n",
    "import assignment_2_2023.msg\n",
    "\n",
    "from geometry_msgs.msg     import Point, Pose, Twist\n",
    "from assignment_2_2023.msg import Cstm_vel\n",
    "from nav_msgs.msg          import Odometry\n",
    "from assignment_2_2023.srv import Last_goal, Last_goalResponse\n",
    "from assignment_2_2023.msg import PlanningActionGoal\n",
    "from assignment_2_2023.srv import Dst_avSpeed, Dst_avSpeedResponse\n",
    "from std_msgs.msg          import String\n",
    "from actionlib_msgs.msg    import GoalID\n",
    "\n",
    "import math\n",
    "import time\n",
    "import numpy as np\n",
    "\n",
    "rospy.init_node(\"node_a_notebook\")\n",
    "action_client = actionlib.SimpleActionClient('/reaching_goal', assignment_2_2023.msg.PlanningAction)\n",
    "action_client.wait_for_server()"
   ]
  },
  {
   "cell_type": "code",
   "execution_count": 8,
   "id": "560d6388",
   "metadata": {
    "ExecuteTime": {
     "end_time": "2024-05-07T12:52:24.709976Z",
     "start_time": "2024-05-07T12:52:24.672810Z"
    }
   },
   "outputs": [
    {
     "ename": "NameError",
     "evalue": "name 'max_width' is not defined",
     "output_type": "error",
     "traceback": [
      "\u001b[0;31m---------------------------------------------------------------------------\u001b[0m",
      "\u001b[0;31mNameError\u001b[0m                                 Traceback (most recent call last)",
      "\u001b[0;32m/tmp/ipykernel_4634/886391084.py\u001b[0m in \u001b[0;36m<module>\u001b[0;34m\u001b[0m\n\u001b[1;32m      4\u001b[0m \u001b[0my_cord\u001b[0m \u001b[0;34m=\u001b[0m \u001b[0mwidgets\u001b[0m\u001b[0;34m.\u001b[0m\u001b[0mIntSlider\u001b[0m\u001b[0;34m(\u001b[0m\u001b[0mvalue\u001b[0m\u001b[0;34m=\u001b[0m\u001b[0;36m0\u001b[0m\u001b[0;34m,\u001b[0m \u001b[0mmin\u001b[0m\u001b[0;34m=\u001b[0m\u001b[0;34m-\u001b[0m\u001b[0;36m10\u001b[0m\u001b[0;34m,\u001b[0m \u001b[0mmax\u001b[0m\u001b[0;34m=\u001b[0m\u001b[0;36m10\u001b[0m\u001b[0;34m)\u001b[0m\u001b[0;34m\u001b[0m\u001b[0;34m\u001b[0m\u001b[0m\n\u001b[1;32m      5\u001b[0m \u001b[0;34m\u001b[0m\u001b[0m\n\u001b[0;32m----> 6\u001b[0;31m \u001b[0msend_bttn\u001b[0m \u001b[0;34m=\u001b[0m \u001b[0mButton\u001b[0m\u001b[0;34m(\u001b[0m\u001b[0mdescription\u001b[0m\u001b[0;34m=\u001b[0m\u001b[0;34m'Send Goal'\u001b[0m\u001b[0;34m,\u001b[0m \u001b[0mlayout\u001b[0m\u001b[0;34m=\u001b[0m\u001b[0mLayout\u001b[0m\u001b[0;34m(\u001b[0m\u001b[0mwidth\u001b[0m\u001b[0;34m=\u001b[0m\u001b[0mmax_width\u001b[0m\u001b[0;34m,\u001b[0m \u001b[0mheigth\u001b[0m \u001b[0;34m=\u001b[0m \u001b[0;34m'80px'\u001b[0m\u001b[0;34m)\u001b[0m\u001b[0;34m)\u001b[0m\u001b[0;34m\u001b[0m\u001b[0;34m\u001b[0m\u001b[0m\n\u001b[0m\u001b[1;32m      7\u001b[0m \u001b[0mcanc_bttn\u001b[0m \u001b[0;34m=\u001b[0m \u001b[0mButton\u001b[0m\u001b[0;34m(\u001b[0m\u001b[0mdescription\u001b[0m\u001b[0;34m=\u001b[0m\u001b[0;34m'Cancel Goal'\u001b[0m\u001b[0;34m,\u001b[0m \u001b[0mlayout\u001b[0m\u001b[0;34m=\u001b[0m\u001b[0mLayout\u001b[0m\u001b[0;34m(\u001b[0m\u001b[0mwidth\u001b[0m\u001b[0;34m=\u001b[0m\u001b[0mmax_width\u001b[0m\u001b[0;34m,\u001b[0m \u001b[0mheigth\u001b[0m \u001b[0;34m=\u001b[0m \u001b[0;34m'80px'\u001b[0m\u001b[0;34m)\u001b[0m\u001b[0;34m)\u001b[0m\u001b[0;34m\u001b[0m\u001b[0;34m\u001b[0m\u001b[0m\n\u001b[1;32m      8\u001b[0m \u001b[0;34m\u001b[0m\u001b[0m\n",
      "\u001b[0;31mNameError\u001b[0m: name 'max_width' is not defined"
     ]
    }
   ],
   "source": [
    "%matplotlib widget\n",
    "#interface widgets and logic \n",
    "x_cord = widgets.IntSlider(value=0, min=-10, max=10)\n",
    "y_cord = widgets.IntSlider(value=0, min=-10, max=10)\n",
    "\n",
    "send_bttn = Button(description='Send Goal', layout=Layout(width='max_width', heigth = '80px'))\n",
    "canc_bttn = Button(description='Cancel Goal', layout=Layout(width='max_width', heigth = '80px'))\n",
    "\n",
    "UI_layout = HBox([VBox([HBox([Label('goal X position: '),x_cord]), HBox([Label('goal Y position: '),y_cord])]), send_bttn, canc_bttn])\n",
    "\n",
    "def send_goal(b):\n",
    "    goal = assignment_2_2023.msg.PlanningGoal()\n",
    "    goal.target_pose.pose.position.x = float(x_cord.value)\n",
    "    goal.target_pose.pose.position.y = float(y_cord.value)\n",
    "    \n",
    "    action_client.send_goal(goal)\n",
    "\n",
    "    \n",
    "def cancel_goal(b):\n",
    "    if action_client.get_state() == actionlib.GoalStatus.SUCCEEDED:\n",
    "        print(\"Goal aleady reached\")\n",
    "    else:\n",
    "        action_client.cancel_goal()\n",
    "        print(\"Goal canceled\")\n"
   ]
  },
  {
   "cell_type": "code",
   "execution_count": 6,
   "id": "1d768f72",
   "metadata": {
    "ExecuteTime": {
     "end_time": "2024-05-07T12:43:06.632487Z",
     "start_time": "2024-05-07T12:43:06.621262Z"
    }
   },
   "outputs": [
    {
     "data": {
      "application/vnd.jupyter.widget-view+json": {
       "model_id": "95b35aad857242b98ae0201bbf695aed",
       "version_major": 2,
       "version_minor": 0
      },
      "text/plain": [
       "HBox(children=(VBox(children=(IntSlider(value=0, description='goal X position: ', max=10, min=-10), IntSlider(…"
      ]
     },
     "metadata": {},
     "output_type": "display_data"
    }
   ],
   "source": [
    "#node logic\n",
    "display(UI_layout)\n",
    "send_bttn.on_click(send_goal)\n",
    "canc_bttn.on_click(cancel_goal)"
   ]
  },
  {
   "cell_type": "code",
   "execution_count": null,
   "id": "c9e1504a",
   "metadata": {},
   "outputs": [],
   "source": []
  }
 ],
 "metadata": {
  "kernelspec": {
   "display_name": "Python 3 (ipykernel)",
   "language": "python",
   "name": "python3"
  },
  "language_info": {
   "codemirror_mode": {
    "name": "ipython",
    "version": 3
   },
   "file_extension": ".py",
   "mimetype": "text/x-python",
   "name": "python",
   "nbconvert_exporter": "python",
   "pygments_lexer": "ipython3",
   "version": "3.8.5"
  },
  "toc": {
   "base_numbering": 1,
   "nav_menu": {},
   "number_sections": true,
   "sideBar": true,
   "skip_h1_title": false,
   "title_cell": "Table of Contents",
   "title_sidebar": "Contents",
   "toc_cell": false,
   "toc_position": {},
   "toc_section_display": true,
   "toc_window_display": false
  },
  "varInspector": {
   "cols": {
    "lenName": 16,
    "lenType": 16,
    "lenVar": 40
   },
   "kernels_config": {
    "python": {
     "delete_cmd_postfix": "",
     "delete_cmd_prefix": "del ",
     "library": "var_list.py",
     "varRefreshCmd": "print(var_dic_list())"
    },
    "r": {
     "delete_cmd_postfix": ") ",
     "delete_cmd_prefix": "rm(",
     "library": "var_list.r",
     "varRefreshCmd": "cat(var_dic_list()) "
    }
   },
   "types_to_exclude": [
    "module",
    "function",
    "builtin_function_or_method",
    "instance",
    "_Feature"
   ],
   "window_display": false
  }
 },
 "nbformat": 4,
 "nbformat_minor": 5
}
