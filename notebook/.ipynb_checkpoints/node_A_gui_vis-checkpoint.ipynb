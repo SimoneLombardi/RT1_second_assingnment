{
 "cells": [
  {
   "cell_type": "code",
   "execution_count": 1,
   "id": "972d083a",
   "metadata": {
    "ExecuteTime": {
     "end_time": "2024-05-08T10:56:37.492577Z",
     "start_time": "2024-05-08T10:56:35.980481Z"
    }
   },
   "outputs": [
    {
     "data": {
      "text/plain": [
       "True"
      ]
     },
     "execution_count": 1,
     "metadata": {},
     "output_type": "execute_result"
    }
   ],
   "source": [
    "import ipywidgets as widgets\n",
    "import matplotlib as mpl\n",
    "import matplotlib.pyplot as plt\n",
    "import numpy as np\n",
    "import math\n",
    "\n",
    "from ipywidgets           import Button, Layout, ButtonStyle, VBox, HBox\n",
    "from IPython.display      import display\n",
    "from matplotlib.animation import FuncAnimation\n",
    "\n",
    "import rospy\n",
    "import actionlib\n",
    "import actionlib.msg\n",
    "import assignment_2_2023.msg\n",
    "\n",
    "from geometry_msgs.msg     import Point, Pose, Twist\n",
    "from assignment_2_2023.msg import Cstm_vel\n",
    "from nav_msgs.msg          import Odometry\n",
    "from assignment_2_2023.srv import Last_goal, Last_goalResponse\n",
    "from assignment_2_2023.msg import PlanningActionGoal\n",
    "from assignment_2_2023.srv import Dst_avSpeed, Dst_avSpeedResponse\n",
    "from std_msgs.msg          import String\n",
    "from actionlib_msgs.msg    import GoalID\n",
    "\n",
    "import math\n",
    "import time\n",
    "import numpy as np\n",
    "\n",
    "rospy.init_node(\"node_a_notebook\")\n",
    "action_client = actionlib.SimpleActionClient('/reaching_goal', assignment_2_2023.msg.PlanningAction)\n",
    "action_client.wait_for_server()"
   ]
  },
  {
   "cell_type": "code",
   "execution_count": 2,
   "id": "43dd98c5",
   "metadata": {
    "ExecuteTime": {
     "end_time": "2024-05-08T10:56:37.550250Z",
     "start_time": "2024-05-08T10:56:37.500266Z"
    }
   },
   "outputs": [],
   "source": [
    "class Visualizer():\n",
    "    def __init__(self):\n",
    "        # definisco 2 elementi per plottare \n",
    "        self.figure, self.ax = plt.subplots(1, 2)\n",
    "        \n",
    "        self.targ, = self.ax[0].plot([], [], 'ro')\n",
    "        self.line, = self.ax[0].plot([], [], 'bo')\n",
    "        \n",
    "        self.xTarg, self.yTarg = [], []\n",
    "        self.xPose, self.yPose = [], []\n",
    "        \n",
    "        self.barVal = [0, 0, 0]\n",
    "        self.bar = self.ax[1].bar(['Sent', 'Cancel', 'Success'], self.barVal, color=['blue', 'red', 'green']) \n",
    "        \n",
    "    def init_plot(self):\n",
    "        self.ax[0].set_xlim(-10, 10)\n",
    "        self.ax[0].set_ylim(-10, 10)\n",
    "        return self.targ, self.line, self.bar\n",
    "    \n",
    "    def update_plot(self, frame):\n",
    "        self.targ.set_data(self.xTarg, self.yTarg)\n",
    "        self.line.set_data(self.xPose, self.yPose)\n",
    "        for i, b in enumerate(self.bar):  # Update the bar plot\n",
    "            b.set_height(self.barVal[i])\n",
    "            self.ax[1].set_ylim(0, max(self.barVal) + 1)\n",
    "        return self.line, self.targ, self.bar\n",
    "    \n",
    "    def save_targhet(self, x, y):\n",
    "        self.xTarg.append(x)\n",
    "        self.yTarg.append(y)\n",
    "        \n",
    "    def update_position_callback(self, msg):\n",
    "        self.xPose.append(msg.x)\n",
    "        self.yPose.append(msg.y)\n",
    "        \n",
    "    \n",
    "    def add_sent(self):\n",
    "        self.barVal[0] += 1\n",
    "        \n",
    "    def add_cancel(self):\n",
    "        self.barVal[1] += 1\n",
    "        #svuoto le liste della posizione \n",
    "        self.xPose.clear()\n",
    "        self.yPose.clear()\n",
    "        \n",
    "    def add_succes(self):\n",
    "        self.barVal[2] += 1\n",
    "        #svuoto le liste della posizione \n",
    "        self.xPose.clear()\n",
    "        self.yPose.clear()\n",
    "        \n",
    "        \n",
    "def get_server_feedback(feedback):\n",
    "    if feedback.stat == \"Target reached!\":\n",
    "        visual.add_succes()"
   ]
  },
  {
   "cell_type": "code",
   "execution_count": 3,
   "id": "c7174646",
   "metadata": {
    "ExecuteTime": {
     "end_time": "2024-05-08T10:56:37.752189Z",
     "start_time": "2024-05-08T10:56:37.561057Z"
    }
   },
   "outputs": [],
   "source": [
    "%matplotlib widget\n",
    "#interface widgets and logic \n",
    "x_cord = widgets.IntSlider(value=0, min=-10, max=10)\n",
    "y_cord = widgets.IntSlider(value=0, min=-10, max=10)\n",
    "\n",
    "send_bttn = Button(description='Send Goal', layout=Layout(width='auto', align=\"center\"))\n",
    "canc_bttn = Button(description='Cancel Goal', layout=Layout(width='auto', align=\"center\"))\n",
    "\n",
    "UI_layout = HBox([VBox([x_cord, y_cord]), send_bttn, canc_bttn])\n",
    "\n",
    "def send_goal(b):\n",
    "    goal = assignment_2_2023.msg.PlanningGoal()\n",
    "    goal.target_pose.pose.position.x = float(x_cord.value)\n",
    "    goal.target_pose.pose.position.y = float(y_cord.value)\n",
    "    \n",
    "    visual.add_sent()\n",
    "    visual.save_targhet(x_cord.value, y_cord.value)\n",
    "    \n",
    "    action_client.send_goal(goal, feedback_cb=get_server_feedback)\n",
    "\n",
    "    \n",
    "def cancel_goal(b):\n",
    "    if action_client.get_state() == actionlib.GoalStatus.SUCCEEDED:\n",
    "        print(\"Goal aleady reached\")\n",
    "    else:\n",
    "        action_client.cancel_goal()\n",
    "        visual.add_cancel()\n",
    "        print(\"Goal canceled\")\n"
   ]
  },
  {
   "cell_type": "code",
   "execution_count": 4,
   "id": "ff7f10a9",
   "metadata": {
    "ExecuteTime": {
     "end_time": "2024-05-08T10:56:37.946759Z",
     "start_time": "2024-05-08T10:56:37.759322Z"
    }
   },
   "outputs": [
    {
     "data": {
      "application/vnd.jupyter.widget-view+json": {
       "model_id": "7316fbf16dba49a18726ca9e9a776346",
       "version_major": 2,
       "version_minor": 0
      },
      "text/plain": [
       "Canvas(toolbar=Toolbar(toolitems=[('Home', 'Reset original view', 'home', 'home'), ('Back', 'Back to previous …"
      ]
     },
     "metadata": {},
     "output_type": "display_data"
    },
    {
     "data": {
      "application/vnd.jupyter.widget-view+json": {
       "model_id": "1cfba69fa57743cb99fbd49f58abf97d",
       "version_major": 2,
       "version_minor": 0
      },
      "text/plain": [
       "HBox(children=(VBox(children=(IntSlider(value=0, max=12), IntSlider(value=0, max=12))), Button(description='Se…"
      ]
     },
     "metadata": {},
     "output_type": "display_data"
    },
    {
     "name": "stdout",
     "output_type": "stream",
     "text": [
      "Goal canceled\n"
     ]
    }
   ],
   "source": [
    "#node logic\n",
    "visual = Visualizer()\n",
    "subscriber = rospy.Subscriber('/custom_vel', Cstm_vel, visual.update_position_callback)\n",
    "\n",
    "\n",
    "ani = FuncAnimation(visual.figure, visual.update_plot, init_func=visual.init_plot,frames=range(100), blit=True)\n",
    "plt.show()\n",
    "display(UI_layout)\n",
    "send_bttn.on_click(send_goal)\n",
    "canc_bttn.on_click(cancel_goal)"
   ]
  },
  {
   "cell_type": "code",
   "execution_count": null,
   "id": "26558266",
   "metadata": {},
   "outputs": [],
   "source": []
  }
 ],
 "metadata": {
  "kernelspec": {
   "display_name": "Python 3 (ipykernel)",
   "language": "python",
   "name": "python3"
  },
  "language_info": {
   "codemirror_mode": {
    "name": "ipython",
    "version": 3
   },
   "file_extension": ".py",
   "mimetype": "text/x-python",
   "name": "python",
   "nbconvert_exporter": "python",
   "pygments_lexer": "ipython3",
   "version": "3.8.5"
  },
  "toc": {
   "base_numbering": 1,
   "nav_menu": {},
   "number_sections": true,
   "sideBar": true,
   "skip_h1_title": false,
   "title_cell": "Table of Contents",
   "title_sidebar": "Contents",
   "toc_cell": false,
   "toc_position": {},
   "toc_section_display": true,
   "toc_window_display": false
  },
  "varInspector": {
   "cols": {
    "lenName": 16,
    "lenType": 16,
    "lenVar": 40
   },
   "kernels_config": {
    "python": {
     "delete_cmd_postfix": "",
     "delete_cmd_prefix": "del ",
     "library": "var_list.py",
     "varRefreshCmd": "print(var_dic_list())"
    },
    "r": {
     "delete_cmd_postfix": ") ",
     "delete_cmd_prefix": "rm(",
     "library": "var_list.r",
     "varRefreshCmd": "cat(var_dic_list()) "
    }
   },
   "types_to_exclude": [
    "module",
    "function",
    "builtin_function_or_method",
    "instance",
    "_Feature"
   ],
   "window_display": false
  }
 },
 "nbformat": 4,
 "nbformat_minor": 5
}
