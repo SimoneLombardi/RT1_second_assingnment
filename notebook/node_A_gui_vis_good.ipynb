{
 "cells": [
  {
   "cell_type": "code",
   "execution_count": 1,
   "id": "ed69e092",
   "metadata": {
    "ExecuteTime": {
     "end_time": "2024-05-22T15:37:39.513944Z",
     "start_time": "2024-05-22T15:37:37.277725Z"
    }
   },
   "outputs": [
    {
     "data": {
      "text/plain": [
       "True"
      ]
     },
     "execution_count": 1,
     "metadata": {},
     "output_type": "execute_result"
    }
   ],
   "source": [
    "import ipywidgets as widgets\n",
    "import matplotlib as mpl\n",
    "import matplotlib.pyplot as plt\n",
    "import numpy as np\n",
    "import math\n",
    "\n",
    "from ipywidgets           import Button, Layout, ButtonStyle, VBox, HBox\n",
    "from IPython.display      import display\n",
    "from matplotlib.animation import FuncAnimation\n",
    "\n",
    "import rospy\n",
    "import actionlib\n",
    "import actionlib.msg\n",
    "import assignment_2_2023.msg\n",
    "\n",
    "from geometry_msgs.msg     import Point, Pose, Twist\n",
    "from assignment_2_2023.msg import Cstm_vel\n",
    "from nav_msgs.msg          import Odometry\n",
    "from assignment_2_2023.srv import Last_goal, Last_goalResponse\n",
    "from assignment_2_2023.msg import PlanningActionGoal\n",
    "from assignment_2_2023.srv import Dst_avSpeed, Dst_avSpeedResponse\n",
    "from std_msgs.msg          import String\n",
    "from actionlib_msgs.msg    import GoalID\n",
    "\n",
    "import math\n",
    "import time\n",
    "import numpy as np\n",
    "\n",
    "rospy.init_node(\"node_a_notebook\")\n",
    "action_client = actionlib.SimpleActionClient('/reaching_goal', assignment_2_2023.msg.PlanningAction)\n",
    "action_client.wait_for_server()"
   ]
  },
  {
   "cell_type": "code",
   "execution_count": 2,
   "id": "7e52ca97",
   "metadata": {
    "ExecuteTime": {
     "end_time": "2024-05-22T15:37:39.566570Z",
     "start_time": "2024-05-22T15:37:39.520774Z"
    }
   },
   "outputs": [],
   "source": [
    "class Visualizer():\n",
    "    def __init__(self):\n",
    "        # definisco 2 elementi per plottare \n",
    "        self.figure, self.ax = plt.subplots(1, 2)\n",
    "        \n",
    "        self.targ, = self.ax[0].plot([], [], 'yo')\n",
    "        self.line, = self.ax[0].plot([], [], 'bo')\n",
    "        \n",
    "        self.targ_succ, = self.ax[0].plot([], [], 'go')\n",
    "        self.targ_canc, = self.ax[0].plot([], [], 'rx')\n",
    "        \n",
    "        self.xTarg, self.yTarg = [], []\n",
    "        self.xPose, self.yPose = [], []\n",
    "        \n",
    "        self.xTarg_canc, self.yTarg_canc = [], []\n",
    "        self.xTarg_succ, self.yTarg_succ = [], []\n",
    "        \n",
    "        \n",
    "        self.barVal = [0, 0, 0]\n",
    "        self.bar = self.ax[1].bar(['Sent', 'Cancel', 'Success'], self.barVal, color=['blue', 'red', 'green']) \n",
    "        \n",
    "    def init_plot(self):\n",
    "        self.ax[0].set_xlim(-10, 10)\n",
    "        self.ax[0].set_ylim(-10, 10)\n",
    "        return self.targ, self.targ_succ, self.targ_canc, self.line, self.bar\n",
    "    \n",
    "    def update_plot(self, frame):\n",
    "        self.targ.set_data(self.xTarg, self.yTarg)\n",
    "        self.line.set_data(self.xPose, self.yPose)\n",
    "        \n",
    "        self.targ_succ.set_data(self.xTarg_succ, self.yTarg_succ)\n",
    "        self.targ_canc.set_data(self.xTarg_canc, self.yTarg_canc)\n",
    "        \n",
    "        for i, b in enumerate(self.bar):  # Update the bar plot\n",
    "            b.set_height(self.barVal[i])\n",
    "            self.ax[1].set_ylim(0, max(self.barVal) + 1)\n",
    "        return self.line, self.targ, self.bar, self.targ_succ, self.targ_canc\n",
    "    \n",
    "    def save_targhet(self, x, y):\n",
    "        self.xTarg.append(x)\n",
    "        self.yTarg.append(y)\n",
    "        \n",
    "    def update_position_callback(self, msg):\n",
    "        self.xPose.append(msg.x)\n",
    "        self.yPose.append(msg.y)\n",
    "        \n",
    "    \n",
    "    def add_sent(self):\n",
    "        self.barVal[0] += 1\n",
    "        \n",
    "    def add_cancel(self):\n",
    "        self.barVal[1] += 1\n",
    "        #tolgo ultimo trg da targ --> targ_canc\n",
    "        self.xTarg_canc.append(self.xTarg.pop())\n",
    "        self.yTarg_canc.append(self.yTarg.pop())\n",
    "        #svuoto le liste della posizione \n",
    "        self.xPose.clear()\n",
    "        self.yPose.clear()\n",
    "        \n",
    "    def add_succes(self):\n",
    "        self.barVal[2] += 1\n",
    "        #tolgo ultimo trg da targ --> targ_succ\n",
    "        self.xTarg_succ.append(self.xTarg.pop())\n",
    "        self.yTarg_succ.append(self.yTarg.pop())\n",
    "        #svuoto le liste della posizione \n",
    "        self.xPose.clear()\n",
    "        self.yPose.clear()\n",
    "        \n",
    "        \n",
    "def get_server_feedback(feedback):\n",
    "    if feedback.stat == \"Target reached!\":\n",
    "        visual.add_succes()\n",
    "        button_block(2)"
   ]
  },
  {
   "cell_type": "code",
   "execution_count": 3,
   "id": "41253228",
   "metadata": {
    "ExecuteTime": {
     "end_time": "2024-05-22T15:37:39.824406Z",
     "start_time": "2024-05-22T15:37:39.588694Z"
    }
   },
   "outputs": [],
   "source": [
    "%matplotlib widget\n",
    "#interface widgets and logic \n",
    "x_cord = widgets.IntSlider(value=0, min=-10, max=10)\n",
    "y_cord = widgets.IntSlider(value=0, min=-10, max=10)\n",
    "\n",
    "send_bttn = Button(description='Send Goal', layout=Layout(width='auto', align=\"center\"), disabled=False)\n",
    "send_bttn.style.button_color = 'Green'\n",
    "\n",
    "canc_bttn = Button(description='Cancel Goal', layout=Layout(width='auto', align=\"center\"), disabled=True)\n",
    "canc_bttn.style.button_color = 'Red'\n",
    "\n",
    "UI_layout = HBox([VBox([x_cord, y_cord]), send_bttn, canc_bttn])\n",
    "\n",
    "def button_block(action):\n",
    "    if action == 1:\n",
    "        send_bttn.disabled = True\n",
    "        send_bttn.style.button_color = 'Red'\n",
    "        \n",
    "        canc_bttn.disabled = False\n",
    "        canc_bttn.style.button_color = 'Green'\n",
    "    elif action == 2:\n",
    "        send_bttn.disabled = False\n",
    "        send_bttn.style.button_color = 'Green'\n",
    "        \n",
    "        canc_bttn.disabled = True\n",
    "        canc_bttn.style.button_color = 'Red'\n",
    "\n",
    "def send_goal(b):\n",
    "    goal = assignment_2_2023.msg.PlanningGoal()\n",
    "    goal.target_pose.pose.position.x = float(x_cord.value)\n",
    "    goal.target_pose.pose.position.y = float(y_cord.value)\n",
    "    \n",
    "    visual.add_sent()\n",
    "    visual.save_targhet(x_cord.value, y_cord.value)\n",
    "    \n",
    "    action_client.send_goal(goal, feedback_cb=get_server_feedback)\n",
    "    \n",
    "    button_block(1)\n",
    "\n",
    "    \n",
    "def cancel_goal(b):\n",
    "    if action_client.get_state() == actionlib.GoalStatus.SUCCEEDED:\n",
    "        print(\"Goal aleady reached\")\n",
    "    else:\n",
    "        action_client.cancel_goal()\n",
    "        visual.add_cancel()\n",
    "        print(\"Goal canceled\")\n",
    "        \n",
    "    button_block(2)\n"
   ]
  },
  {
   "cell_type": "code",
   "execution_count": 4,
   "id": "a5c25a15",
   "metadata": {
    "ExecuteTime": {
     "end_time": "2024-05-22T15:37:40.150308Z",
     "start_time": "2024-05-22T15:37:39.830408Z"
    }
   },
   "outputs": [
    {
     "data": {
      "application/vnd.jupyter.widget-view+json": {
       "model_id": "1108a82b20674c88b704b653501b6ecd",
       "version_major": 2,
       "version_minor": 0
      },
      "text/plain": [
       "Canvas(toolbar=Toolbar(toolitems=[('Home', 'Reset original view', 'home', 'home'), ('Back', 'Back to previous …"
      ]
     },
     "metadata": {},
     "output_type": "display_data"
    },
    {
     "data": {
      "application/vnd.jupyter.widget-view+json": {
       "model_id": "e1d673cfd2814967a61accbbf7c4426f",
       "version_major": 2,
       "version_minor": 0
      },
      "text/plain": [
       "HBox(children=(VBox(children=(IntSlider(value=0, max=10, min=-10), IntSlider(value=0, max=10, min=-10))), Butt…"
      ]
     },
     "metadata": {},
     "output_type": "display_data"
    },
    {
     "name": "stdout",
     "output_type": "stream",
     "text": [
      "Goal canceled\n"
     ]
    }
   ],
   "source": [
    "#node logic\n",
    "visual = Visualizer()\n",
    "subscriber = rospy.Subscriber('/custom_vel', Cstm_vel, visual.update_position_callback)\n",
    "\n",
    "\n",
    "ani = FuncAnimation(visual.figure, visual.update_plot, init_func=visual.init_plot,frames=range(100), blit=True)\n",
    "plt.show()\n",
    "display(UI_layout)\n",
    "send_bttn.on_click(send_goal)\n",
    "canc_bttn.on_click(cancel_goal)"
   ]
  }
 ],
 "metadata": {
  "kernelspec": {
   "display_name": "Python 3 (ipykernel)",
   "language": "python",
   "name": "python3"
  },
  "language_info": {
   "codemirror_mode": {
    "name": "ipython",
    "version": 3
   },
   "file_extension": ".py",
   "mimetype": "text/x-python",
   "name": "python",
   "nbconvert_exporter": "python",
   "pygments_lexer": "ipython3",
   "version": "3.8.5"
  },
  "toc": {
   "base_numbering": 1,
   "nav_menu": {},
   "number_sections": true,
   "sideBar": true,
   "skip_h1_title": false,
   "title_cell": "Table of Contents",
   "title_sidebar": "Contents",
   "toc_cell": false,
   "toc_position": {},
   "toc_section_display": true,
   "toc_window_display": false
  },
  "varInspector": {
   "cols": {
    "lenName": 16,
    "lenType": 16,
    "lenVar": 40
   },
   "kernels_config": {
    "python": {
     "delete_cmd_postfix": "",
     "delete_cmd_prefix": "del ",
     "library": "var_list.py",
     "varRefreshCmd": "print(var_dic_list())"
    },
    "r": {
     "delete_cmd_postfix": ") ",
     "delete_cmd_prefix": "rm(",
     "library": "var_list.r",
     "varRefreshCmd": "cat(var_dic_list()) "
    }
   },
   "types_to_exclude": [
    "module",
    "function",
    "builtin_function_or_method",
    "instance",
    "_Feature"
   ],
   "window_display": false
  }
 },
 "nbformat": 4,
 "nbformat_minor": 5
}
